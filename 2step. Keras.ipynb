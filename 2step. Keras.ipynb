{
 "cells": [
  {
   "cell_type": "code",
   "execution_count": 1,
   "metadata": {},
   "outputs": [],
   "source": [
    "import pandas as pd\n",
    "import numpy as np"
   ]
  },
  {
   "cell_type": "code",
   "execution_count": 2,
   "metadata": {},
   "outputs": [],
   "source": [
    "dtrain = pd.read_csv('./train.csv')\n",
    "dtest = pd.read_csv('./test.csv')"
   ]
  },
  {
   "cell_type": "code",
   "execution_count": 3,
   "metadata": {},
   "outputs": [
    {
     "name": "stderr",
     "output_type": "stream",
     "text": [
      "C:\\Users\\atama\\Anaconda3\\lib\\site-packages\\sklearn\\cross_validation.py:41: DeprecationWarning: This module was deprecated in version 0.18 in favor of the model_selection module into which all the refactored classes and functions are moved. Also note that the interface of the new CV iterators are different from that of this module. This module will be removed in 0.20.\n",
      "  \"This module will be removed in 0.20.\", DeprecationWarning)\n"
     ]
    }
   ],
   "source": [
    "from sklearn import cross_validation\n",
    "\n",
    "x_train, x_valid, y_train, y_valid = cross_validation.train_test_split(\n",
    "dtrain.drop(('label'), axis=1).astype('float32')/255.0,        \n",
    "dtrain['label'],                                              \n",
    "test_size = 0.2,\n",
    "random_state = 11)"
   ]
  },
  {
   "cell_type": "code",
   "execution_count": 4,
   "metadata": {},
   "outputs": [
    {
     "name": "stderr",
     "output_type": "stream",
     "text": [
      "C:\\Users\\atama\\Anaconda3\\lib\\site-packages\\h5py\\__init__.py:36: FutureWarning: Conversion of the second argument of issubdtype from `float` to `np.floating` is deprecated. In future, it will be treated as `np.float64 == np.dtype(float).type`.\n",
      "  from ._conv import register_converters as _register_converters\n",
      "Using TensorFlow backend.\n"
     ]
    }
   ],
   "source": [
    "from keras.models import Sequential\n",
    "from keras.layers import Dense\n",
    "from keras import regularizers\n",
    "\n",
    "model = Sequential()\n",
    "model.add(Dense(800, input_dim=x_train.shape[1], activation=\"relu\", kernel_initializer=\"normal\", kernel_regularizer=regularizers.l2(0.01)))\n",
    "model.add(Dense(600, activation=\"relu\", kernel_initializer=\"normal\"))\n",
    "model.add(Dense(10, activation=\"softmax\", kernel_initializer=\"normal\"))"
   ]
  },
  {
   "cell_type": "code",
   "execution_count": 5,
   "metadata": {},
   "outputs": [],
   "source": [
    "model.compile(loss='sparse_categorical_crossentropy',\n",
    "              optimizer='adam',\n",
    "              metrics=['accuracy'])"
   ]
  },
  {
   "cell_type": "code",
   "execution_count": 6,
   "metadata": {},
   "outputs": [
    {
     "name": "stdout",
     "output_type": "stream",
     "text": [
      "Train on 33600 samples, validate on 8400 samples\n",
      "Epoch 1/10\n",
      "33600/33600 [==============================] - 10s 294us/step - loss: 6.3977 - acc: 0.8876 - val_loss: 1.6581 - val_acc: 0.9354\n",
      "Epoch 2/10\n",
      "33600/33600 [==============================] - 9s 278us/step - loss: 0.8113 - acc: 0.9455 - val_loss: 0.4187 - val_acc: 0.9490\n",
      "Epoch 3/10\n",
      "33600/33600 [==============================] - 9s 281us/step - loss: 0.3187 - acc: 0.9546 - val_loss: 0.2898 - val_acc: 0.9525\n",
      "Epoch 4/10\n",
      "33600/33600 [==============================] - 9s 281us/step - loss: 0.2577 - acc: 0.9564 - val_loss: 0.2604 - val_acc: 0.9570\n",
      "Epoch 5/10\n",
      "33600/33600 [==============================] - 9s 279us/step - loss: 0.2220 - acc: 0.9647 - val_loss: 0.2501 - val_acc: 0.9537\n",
      "Epoch 6/10\n",
      "33600/33600 [==============================] - 9s 280us/step - loss: 0.2255 - acc: 0.9623 - val_loss: 0.2484 - val_acc: 0.9607\n",
      "Epoch 7/10\n",
      "33600/33600 [==============================] - 9s 279us/step - loss: 0.2069 - acc: 0.9670 - val_loss: 0.2225 - val_acc: 0.9658\n",
      "Epoch 8/10\n",
      "33600/33600 [==============================] - 9s 280us/step - loss: 0.1919 - acc: 0.9703 - val_loss: 0.2077 - val_acc: 0.9683\n",
      "Epoch 9/10\n",
      "33600/33600 [==============================] - 9s 277us/step - loss: 0.1815 - acc: 0.9713 - val_loss: 0.2015 - val_acc: 0.9655\n",
      "Epoch 10/10\n",
      "33600/33600 [==============================] - 10s 284us/step - loss: 0.1725 - acc: 0.9732 - val_loss: 0.2023 - val_acc: 0.9656\n"
     ]
    }
   ],
   "source": [
    "history = model.fit(x_train, y_train, validation_data=(x_valid, y_valid), epochs=10, batch_size=400)"
   ]
  },
  {
   "cell_type": "code",
   "execution_count": 7,
   "metadata": {},
   "outputs": [],
   "source": [
    "predictions = model.predict_classes(dtest, verbose=0)"
   ]
  },
  {
   "cell_type": "code",
   "execution_count": 9,
   "metadata": {},
   "outputs": [],
   "source": [
    "submissions=pd.DataFrame({\"ImageId\": list(range(1,len(predictions)+1)), \"Label\": predictions})\n",
    "submissions.to_csv(\"predictions.csv\", index=False, header=True)"
   ]
  },
  {
   "cell_type": "markdown",
   "metadata": {},
   "source": [
    " "
   ]
  },
  {
   "cell_type": "code",
   "execution_count": 10,
   "metadata": {},
   "outputs": [],
   "source": [
    "import pickle\n",
    "\n",
    "LRmodel = pickle.load(open('LearnedLRmodel.sav', 'rb'))"
   ]
  },
  {
   "cell_type": "code",
   "execution_count": 11,
   "metadata": {},
   "outputs": [
    {
     "data": {
      "text/plain": [
       "0.9154761904761904"
      ]
     },
     "execution_count": 11,
     "metadata": {},
     "output_type": "execute_result"
    }
   ],
   "source": [
    "from sklearn import metrics\n",
    "\n",
    "metrics.accuracy_score(LRmodel.predict(x_valid), y_valid)"
   ]
  },
  {
   "cell_type": "markdown",
   "metadata": {},
   "source": [
    "### Сеть получилась лучше, чем логрег"
   ]
  },
  {
   "cell_type": "code",
   "execution_count": 12,
   "metadata": {},
   "outputs": [
    {
     "data": {
      "image/png": "[encoded data removed]",
      "text/plain": [
       "<matplotlib.figure.Figure at 0x1d3970ff518>"
      ]
     },
     "metadata": {},
     "output_type": "display_data"
    }
   ],
   "source": [
    "import matplotlib.pyplot as plt\n",
    "\n",
    "%matplotlib inline\n",
    "\n",
    "plt.plot(history.history['loss'])\n",
    "plt.plot(history.history['val_loss'])\n",
    "plt.title('model loss')\n",
    "plt.ylabel('loss')\n",
    "plt.xlabel('epoch')\n",
    "plt.legend(['train', 'valid'], loc='upper left')\n",
    "plt.show()"
   ]
  }
 ],
 "metadata": {
  "kernelspec": {
   "display_name": "Python 3",
   "language": "python",
   "name": "python3"
  },
  "language_info": {
   "codemirror_mode": {
    "name": "ipython",
    "version": 3
   },
   "file_extension": ".py",
   "mimetype": "text/x-python",
   "name": "python",
   "nbconvert_exporter": "python",
   "pygments_lexer": "ipython3",
   "version": "3.6.4"
  }
 },
 "nbformat": 4,
 "nbformat_minor": 2
}
